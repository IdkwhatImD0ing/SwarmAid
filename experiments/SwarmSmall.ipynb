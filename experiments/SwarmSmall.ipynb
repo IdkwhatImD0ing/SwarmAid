{
 "cells": [
  {
   "cell_type": "code",
   "execution_count": 1,
   "metadata": {},
   "outputs": [
    {
     "name": "stdout",
     "output_type": "stream",
     "text": [
      "I've noted the surplus items from Grocery Store A, which include strawberries, apples, carrots, and beef. Now, let's find an optimal way to match this surplus with any demands, if available. Let me work on that for you. There are currently no matching demands for the surplus items from Grocery Store A in the database. But don't worry, your surplus details have been stored, and any future demands will be matched accordingly. If you have additional items to track or need further assistance, feel free to let me know!"
     ]
    }
   ],
   "source": [
    "from agents import AgentSwarm\n",
    "from small_db import get_db, set_db\n",
    "\n",
    "db = get_db()\n",
    "socket = \"\"\n",
    "swarm = AgentSwarm(db, socket)\n",
    "response = swarm.run(\"Store: Grocery Store A. Surplus items are: strawberries, apples, carrots, beef\", stream=True)\n",
    "\n",
    "for chunk in response:\n",
    "    if \"content\" in chunk and chunk['content']:\n",
    "        print(chunk['content'], end=\"\", flush=True)"
   ]
  },
  {
   "cell_type": "code",
   "execution_count": 2,
   "metadata": {},
   "outputs": [
    {
     "data": {
      "text/plain": [
       "{'locations': {'Grocery Store A': {'data': {'lat': 40.712776,\n",
       "    'lon': -74.005974,\n",
       "    'address': '123 Main St, New York, NY 10001'},\n",
       "   'surplus': ['fruits', 'vegetables', 'meat'],\n",
       "   'surplus_mapping': {'fruits': ['strawberries', 'apples'],\n",
       "    'vegetables': ['carrots'],\n",
       "    'meat': ['beef']}},\n",
       "  'Bakery B': {'data': {'lat': 42.65258,\n",
       "    'lon': -73.756232,\n",
       "    'address': '456 Country Rd, Albany, NY 12207'}},\n",
       "  'Seafood Market C': {'data': {'lat': 42.886448,\n",
       "    'lon': -78.878372,\n",
       "    'address': '789 Market St, Buffalo, NY 14202'}},\n",
       "  'Soup Kitchen X': {'data': {'lat': 40.717054,\n",
       "    'lon': -73.984472,\n",
       "    'address': '321 Charity Ave, New York, NY 10002'}},\n",
       "  'Homeless Shelter Y': {'data': {'lat': 42.65258,\n",
       "    'lon': -73.756232,\n",
       "    'address': '654 Support St, Albany, NY 12205'}},\n",
       "  'Community Kitchen Z': {'data': {'lat': 42.886448,\n",
       "    'lon': -78.878372,\n",
       "    'address': '987 Hope Rd, Buffalo, NY 14203'}}}}"
      ]
     },
     "execution_count": 2,
     "metadata": {},
     "output_type": "execute_result"
    }
   ],
   "source": [
    "get_db()\n"
   ]
  },
  {
   "cell_type": "code",
   "execution_count": 3,
   "metadata": {},
   "outputs": [
    {
     "name": "stdout",
     "output_type": "stream",
     "text": [
      "To process the demand for rice at Soup Kitchen X, we can categorize \"rice\" under the grain category. Let's save this information.The demand for rice at Soup Kitchen X has been saved under the \"grains\" category. Now I'll check the available surplus items and try to fulfill this demand!It appears there are currently no surplus supplies available to meet the demand for rice at Soup Kitchen X. Not to worry though! Your demand has been recorded in the database. As soon as we have surplus stock in the grains category, we'll be able to make a match and coordinate the delivery to you. \n",
      "\n",
      "Thank you for reaching out, and we aim to fulfill your requirement as quickly as possible! If there's anything else you need, feel free to let us know."
     ]
    }
   ],
   "source": [
    "response = swarm.run(\"Soup Kitchen X, needs some rice\", stream=True)\n",
    "\n",
    "for chunk in response:\n",
    "    if \"content\" in chunk and chunk['content']:\n",
    "        print(chunk['content'], end=\"\", flush=True)"
   ]
  },
  {
   "cell_type": "code",
   "execution_count": 4,
   "metadata": {},
   "outputs": [
    {
     "data": {
      "text/plain": [
       "{'locations': {'Grocery Store A': {'data': {'lat': 40.712776,\n",
       "    'lon': -74.005974,\n",
       "    'address': '123 Main St, New York, NY 10001'},\n",
       "   'surplus': ['fruits', 'vegetables', 'meat'],\n",
       "   'surplus_mapping': {'fruits': ['strawberries', 'apples'],\n",
       "    'vegetables': ['carrots'],\n",
       "    'meat': ['beef']}},\n",
       "  'Bakery B': {'data': {'lat': 42.65258,\n",
       "    'lon': -73.756232,\n",
       "    'address': '456 Country Rd, Albany, NY 12207'}},\n",
       "  'Seafood Market C': {'data': {'lat': 42.886448,\n",
       "    'lon': -78.878372,\n",
       "    'address': '789 Market St, Buffalo, NY 14202'}},\n",
       "  'Soup Kitchen X': {'data': {'lat': 40.717054,\n",
       "    'lon': -73.984472,\n",
       "    'address': '321 Charity Ave, New York, NY 10002'},\n",
       "   'demand': ['grains']},\n",
       "  'Homeless Shelter Y': {'data': {'lat': 42.65258,\n",
       "    'lon': -73.756232,\n",
       "    'address': '654 Support St, Albany, NY 12205'}},\n",
       "  'Community Kitchen Z': {'data': {'lat': 42.886448,\n",
       "    'lon': -78.878372,\n",
       "    'address': '987 Hope Rd, Buffalo, NY 14203'}}}}"
      ]
     },
     "execution_count": 4,
     "metadata": {},
     "output_type": "execute_result"
    }
   ],
   "source": [
    "get_db()\n"
   ]
  },
  {
   "cell_type": "code",
   "execution_count": 5,
   "metadata": {},
   "outputs": [
    {
     "name": "stdout",
     "output_type": "stream",
     "text": [
      "Hi there! 😊 This is just a quick note to let you know that Soup Kitchen X will be coming by to pick up some beef from your location. If you could please have it packaged neatly, we’d really appreciate it! Thank you for your support! 🥣❤️\n",
      "Hey there! 😊 Just wanted to let you know that Grocery Store A has some extra beef available that you can use at the Soup Kitchen X location. If you’re able, please send someone to pick it up. The address is 123 Main St, New York, NY 10001. Let me know if you need any help coordinating! 🍽️✨\n",
      "All dispatch messages have been successfully sent. Grocery Store A has been notified to supply beef to Soup Kitchen X."
     ]
    }
   ],
   "source": [
    "response = swarm.run(\"Soup Kitchen X, needs some beef\", stream=True)\n",
    "\n",
    "for chunk in response:\n",
    "    if \"content\" in chunk and chunk['content']:\n",
    "        print(chunk['content'], end=\"\", flush=True)"
   ]
  },
  {
   "cell_type": "code",
   "execution_count": 6,
   "metadata": {},
   "outputs": [
    {
     "data": {
      "text/plain": [
       "{'locations': {'Grocery Store A': {'data': {'lat': 40.712776,\n",
       "    'lon': -74.005974,\n",
       "    'address': '123 Main St, New York, NY 10001'},\n",
       "   'surplus': ['fruits', 'vegetables'],\n",
       "   'surplus_mapping': {'fruits': ['strawberries', 'apples'],\n",
       "    'vegetables': ['carrots']}},\n",
       "  'Bakery B': {'data': {'lat': 42.65258,\n",
       "    'lon': -73.756232,\n",
       "    'address': '456 Country Rd, Albany, NY 12207'}},\n",
       "  'Seafood Market C': {'data': {'lat': 42.886448,\n",
       "    'lon': -78.878372,\n",
       "    'address': '789 Market St, Buffalo, NY 14202'}},\n",
       "  'Soup Kitchen X': {'data': {'lat': 40.717054,\n",
       "    'lon': -73.984472,\n",
       "    'address': '321 Charity Ave, New York, NY 10002'},\n",
       "   'demand': ['grains']},\n",
       "  'Homeless Shelter Y': {'data': {'lat': 42.65258,\n",
       "    'lon': -73.756232,\n",
       "    'address': '654 Support St, Albany, NY 12205'}},\n",
       "  'Community Kitchen Z': {'data': {'lat': 42.886448,\n",
       "    'lon': -78.878372,\n",
       "    'address': '987 Hope Rd, Buffalo, NY 14203'}}}}"
      ]
     },
     "execution_count": 6,
     "metadata": {},
     "output_type": "execute_result"
    }
   ],
   "source": [
    "get_db()"
   ]
  }
 ],
 "metadata": {
  "kernelspec": {
   "display_name": "swarm",
   "language": "python",
   "name": "python3"
  },
  "language_info": {
   "codemirror_mode": {
    "name": "ipython",
    "version": 3
   },
   "file_extension": ".py",
   "mimetype": "text/x-python",
   "name": "python",
   "nbconvert_exporter": "python",
   "pygments_lexer": "ipython3",
   "version": "3.10.13"
  }
 },
 "nbformat": 4,
 "nbformat_minor": 2
}
